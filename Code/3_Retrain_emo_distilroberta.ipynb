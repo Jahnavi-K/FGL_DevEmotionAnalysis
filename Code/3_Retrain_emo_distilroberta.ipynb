{
 "cells": [
  {
   "cell_type": "markdown",
   "metadata": {
    "colab": {
     "base_uri": "https://localhost:8080/",
     "height": 1000
    },
    "id": "ZQy1VlD2VtY6",
    "outputId": "331201d2-f655-4ad0-e43b-1279f88d8dee"
   },
   "source": [
    "# install the transformers library\n",
    "!pip uninstall -y transformers accelerate\n",
    "!pip install transformers accelerate\n",
    "!pip install --upgrade transformers"
   ]
  },
  {
   "cell_type": "markdown",
   "metadata": {
    "colab": {
     "base_uri": "https://localhost:8080/"
    },
    "id": "6nmVpNdXV1r7",
    "outputId": "f57d517a-7b88-464e-c054-191249fd3832"
   },
   "source": [
    "# import file stored on Google Drive\n",
    "from google.colab import drive\n",
    "drive.mount('/content/drive')"
   ]
  },
  {
   "cell_type": "markdown",
   "metadata": {},
   "source": [
    "! export PYTORCH_CUDA_ALLOC_CONF=0:9500"
   ]
  },
  {
   "cell_type": "markdown",
   "metadata": {
    "colab": {
     "base_uri": "https://localhost:8080/"
    },
    "id": "PVosM8hgWiGD",
    "outputId": "e8875c16-5d60-4f99-d303-eff093ff3adf"
   },
   "source": [
    "!pip install datasets transformers accelerate\n",
    "!pip install torch\n",
    "!pip install evaluate"
   ]
  },
  {
   "cell_type": "code",
   "execution_count": null,
   "metadata": {
    "colab": {
     "base_uri": "https://localhost:8080/"
    },
    "id": "2qFICZoUV3qW",
    "outputId": "9d42f9c7-dc8d-458d-d92a-c34825b30c54",
    "scrolled": true
   },
   "outputs": [],
   "source": [
    "import torch\n",
    "print(torch.__version__)\n",
    "import pandas as pd\n",
    "import numpy as np\n",
    "from datasets import Dataset\n",
    "import os\n",
    "# specify your filename\n",
    "input_folder_path = os.path.join(os.getcwd(), \"input\")\n",
    "merged_csv_filename = \"merged_data.csv\"\n",
    "merged_csv_filepath = os.path.join(input_folder_path, merged_csv_filename)\n",
    "text_column1 = \"Comment\"  # select the column in your csv that contains the text to be classified\n",
    "text_column2 = \"Class\"\n",
    "# read in csv\n",
    "dataset1 = Dataset.from_csv(merged_csv_filepath)\n",
    "\n",
    "eval_metrics_file = \"Retrain_eval_metrics.csv\"\n",
    "num_epochs=1 #20\n",
    "out_dir = \"Models/\""
   ]
  },
  {
   "cell_type": "code",
   "execution_count": null,
   "metadata": {},
   "outputs": [],
   "source": [
    "print(dataset1)\n"
   ]
  },
  {
   "cell_type": "code",
   "execution_count": null,
   "metadata": {
    "colab": {
     "base_uri": "https://localhost:8080/"
    },
    "id": "-_9BfPcqWRok",
    "outputId": "307c9455-49c3-46d5-d3ce-2d3a5feaa333"
   },
   "outputs": [],
   "source": [
    "import collections\n",
    "num_labels_dataset = len(dataset1.unique(\"Class\"))\n",
    "print(\"Number of labels in the dataset:\", num_labels_dataset)\n",
    "\n",
    "# Assuming dataset1 is a list of dictionaries\n",
    "class_counts = collections.Counter(data_point['Class'] for data_point in dataset1)\n",
    "\n",
    "# Print unique classes along with their counts\n",
    "print(\"Unique classes and their counts:\")\n",
    "for class_label, count in class_counts.items():\n",
    "    print(class_label, count)"
   ]
  },
  {
   "cell_type": "code",
   "execution_count": null,
   "metadata": {
    "id": "DnGxdQTSV6wm"
   },
   "outputs": [],
   "source": [
    "import pandas as pd\n",
    "from datasets import Dataset, DatasetDict\n",
    "\n",
    "# Convert the Dataset to a pandas DataFrame\n",
    "df = dataset1.to_pandas()\n",
    "\n",
    "# Now, split the data based on classes\n",
    "unique_labels = df['Class'].unique()\n",
    "train_dataframes = []\n",
    "test_dataframes = []\n",
    "\n",
    "for label in unique_labels:\n",
    "    class_subset = df[df['Class'] == label]\n",
    "    train_df = class_subset.head(250)\n",
    "    test_df = class_subset.tail(41)\n",
    "    \n",
    "    train_dataframes.append(train_df)\n",
    "    test_dataframes.append(test_df)\n",
    "\n",
    "train_df = pd.concat(train_dataframes, ignore_index=True)\n",
    "test_df = pd.concat(test_dataframes, ignore_index=True)\n",
    "\n",
    "# Rename the columns for consistency\n",
    "train_df = train_df.rename(columns={\"Comment\": \"text\", \"Class\": \"label\"})\n",
    "test_df = test_df.rename(columns={\"Comment\": \"text\", \"Class\": \"label\"})\n",
    "\n",
    "# Convert them back to Dataset objects\n",
    "train_dataset = Dataset.from_pandas(train_df)\n",
    "test_dataset = Dataset.from_pandas(test_df)\n",
    "\n",
    "dataset1_split = DatasetDict({\n",
    "    \"train\": train_dataset,\n",
    "    \"test\": test_dataset\n",
    "})\n",
    "\n",
    "# Define hardcoded label mapping for the specified emotions\n",
    "label_mapping = {\n",
    "    \"Anger\": 0,\n",
    "    \"Love\": 1,\n",
    "    \"Fear\": 2,\n",
    "    \"Joy\": 3,\n",
    "    \"Sadness\": 4,\n",
    "    \"Surprise\": 5,\n",
    "    \"Neutral\": 6\n",
    "}\n",
    "\n",
    "# Map the labels in both training and testing datasets using the hardcoded mapping\n",
    "train_df[\"label\"] = train_df[\"label\"].map(label_mapping)\n",
    "test_df[\"label\"] = test_df[\"label\"].map(label_mapping)\n",
    "\n",
    "# Convert the DataFrames back to Dataset objects\n",
    "sorted_train_dataset = Dataset.from_pandas(train_df)\n",
    "sorted_test_dataset = Dataset.from_pandas(test_df)\n",
    "\n",
    "sorted_dataset1 = DatasetDict({\n",
    "    \"train\": sorted_train_dataset,\n",
    "    \"test\": sorted_test_dataset\n",
    "})\n"
   ]
  },
  {
   "cell_type": "code",
   "execution_count": null,
   "metadata": {},
   "outputs": [],
   "source": [
    "sorted_dataset1"
   ]
  },
  {
   "cell_type": "code",
   "execution_count": null,
   "metadata": {},
   "outputs": [],
   "source": [
    "test_filepath = os.path.join(input_folder_path, \"CommentsFromLang_Test.csv\")\n",
    "add_testDS = Dataset.from_csv(test_filepath)\n",
    "df_add_testDS = add_testDS.to_pandas()\n",
    "addtest_df = df_add_testDS.rename(columns={\"Comment\": \"text\", \"Class\": \"label\"})\n",
    "# Convert them back to Dataset objects\n",
    "addtest_dataset = Dataset.from_pandas(addtest_df)\n",
    "addtest_df[\"label\"] = addtest_df[\"label\"].map(label_mapping)\n",
    "sorted_addtest_dataset = Dataset.from_pandas(addtest_df)"
   ]
  },
  {
   "cell_type": "markdown",
   "metadata": {},
   "source": [
    "# Define the path to save the CSV file\n",
    "sorted_test_dataset_path = input_folder_path+\"/sorted_test_dataset.csv\"\n",
    "# Write sorted_dataset1[\"test\"] to the CSV file\n",
    "dataset1_split[\"test\"].to_csv(sorted_test_dataset_path)"
   ]
  },
  {
   "cell_type": "markdown",
   "metadata": {},
   "source": [
    "import pandas as pd\n",
    "import os\n",
    "\n",
    "# Define the file paths\n",
    "file1_path = os.path.join(input_folder_path, \"CommentsFromLang_Test.csv\")\n",
    "file2_path = os.path.join(input_folder_path, \"sorted_test_dataset.csv\")\n",
    "\n",
    "# Load the CSV files into pandas dataframes\n",
    "df1 = pd.read_csv(file1_path)\n",
    "df1 = df1.rename(columns={\"Comment\": \"text\", \"Class\": \"label\"})\n",
    "df2 = pd.read_csv(file2_path)\n",
    "\n",
    "# Concatenate the two dataframes\n",
    "merged_df = pd.concat([df1, df2], ignore_index=True)\n",
    "# Save the merged dataframe to a new CSV file\n",
    "merged_file_path = os.path.join(input_folder_path, \"test_merged_dataset.csv\")\n",
    "merged_df.to_csv(merged_file_path, index=False)\n"
   ]
  },
  {
   "cell_type": "markdown",
   "metadata": {},
   "source": [
    "import pandas as pd\n",
    "test_filepath = os.path.join(input_folder_path, \"merged_dataset.csv\")\n",
    "add_testDS = Dataset.from_csv(test_filepath)\n",
    "addtest_df = add_testDS.to_pandas()\n",
    "addtest_df[\"label\"] = addtest_df[\"label\"].map(label_mapping)\n",
    "merged_dataset = Dataset.from_pandas(addtest_df)\n"
   ]
  },
  {
   "cell_type": "code",
   "execution_count": null,
   "metadata": {
    "colab": {
     "base_uri": "https://localhost:8080/"
    },
    "id": "YKkAqvG-Wyu-",
    "outputId": "6d3077c2-fc1a-4eed-c909-448be9e20407"
   },
   "outputs": [],
   "source": [
    "dataset1"
   ]
  },
  {
   "cell_type": "markdown",
   "metadata": {},
   "source": [
    "merged_dataset"
   ]
  },
  {
   "cell_type": "code",
   "execution_count": null,
   "metadata": {},
   "outputs": [],
   "source": [
    "from datasets import concatenate_datasets\n",
    "\n",
    "# Assuming you've already loaded your datasets\n",
    "concatenated_dataset = concatenate_datasets([sorted_dataset1[\"test\"], sorted_addtest_dataset])\n"
   ]
  },
  {
   "cell_type": "code",
   "execution_count": null,
   "metadata": {
    "colab": {
     "base_uri": "https://localhost:8080/",
     "height": 17,
     "referenced_widgets": [
      "95d991012353487e81d0d14c5d75285c",
      "74fece7d5eb54275a179f9cab3fcbe86",
      "2395e2d525934fb090fc58b5e8e2bce8",
      "e85d157453e148aa9bd1f6a1bda112a3",
      "dc07e109aceb4f4caaf40afbee4b7809",
      "7a24bdd879cb4eac8f154f8499d7226c",
      "d4eafcee2d1e49ffa1e6fc12fdb55a81",
      "e95e9d4db2254149a8f080812b41aaaf",
      "a53f2fffe39d4f7ba86995f8574dc369",
      "33341cdaa7d74a5a97fe67a3e16eb4ac",
      "9dc1e18a49574eb08c8a1fa445eb449f",
      "559c2507022d42e5a4d8a6be2eef0c7f",
      "54c48acde10c40d6a7304457aeee0bb1",
      "473dec24a2da412e981bfc2a3b25093d",
      "a0d06c71ecf04f789987f19e916ffcb6",
      "f330e4cca1854941a1cae66e2e5f1f52",
      "68c7353b59af44b7a10f60515772b00e",
      "a64f43c0b41046c5a8087b5449ca86f1",
      "0a7e071d5b0c4c8cb793d758073540bc",
      "cec6d45574e64803886748de947c3c1f",
      "b55d2195f0d14ef8b7f03a1eecb53f17",
      "d29631bca5dd4cb19538d8acddc173e0"
     ]
    },
    "id": "80KEC8tFW1V0",
    "outputId": "090b5d4b-4b63-4968-af2b-6190951b9c6f"
   },
   "outputs": [],
   "source": [
    "model_name = 'j-hartmann/emotion-english-distilroberta-base'\n",
    "\n",
    "#Prepare dataset\n",
    "from transformers import AutoTokenizer\n",
    "tokenizer = AutoTokenizer.from_pretrained(model_name)\n",
    "def tokenize_function(examples):\n",
    "    return tokenizer(examples[\"text\"], padding=\"max_length\", truncation=True)\n",
    "\n",
    "tokenized_datasets1 = sorted_dataset1.map(tokenize_function, batched = True)\n",
    "# tokenized_merged_dataset = merged_dataset.map(tokenize_function, batched = True)\n",
    "tokenized_concatenated_dataset = concatenated_dataset.map(tokenize_function, batched = True)"
   ]
  },
  {
   "cell_type": "code",
   "execution_count": null,
   "metadata": {
    "id": "wqkTGDWyXG8s"
   },
   "outputs": [],
   "source": [
    "small_train_dataset = tokenized_datasets1[\"train\"].shuffle(seed=42)\n",
    "small_eval_dataset = tokenized_datasets1[\"test\"].shuffle(seed=42)\n",
    "# small_tokenized_merged_dataset = tokenized_merged_dataset.shuffle(seed=42)\n",
    "small_tokenized_concatenated_dataset = tokenized_concatenated_dataset.shuffle(seed=42)"
   ]
  },
  {
   "cell_type": "code",
   "execution_count": null,
   "metadata": {
    "colab": {
     "base_uri": "https://localhost:8080/"
    },
    "id": "lsD4xkAkXMWx",
    "outputId": "65fac2db-0297-42a1-e068-40bd8493fa0c"
   },
   "outputs": [],
   "source": [
    "small_eval_dataset"
   ]
  },
  {
   "cell_type": "code",
   "execution_count": null,
   "metadata": {},
   "outputs": [],
   "source": [
    "# small_tokenized_merged_dataset\n",
    "small_tokenized_concatenated_dataset"
   ]
  },
  {
   "cell_type": "code",
   "execution_count": null,
   "metadata": {},
   "outputs": [],
   "source": [
    "# Assuming you've tokenized your merged dataset and it's named `small_tokenized_merged_dataset`\n",
    "filtered_dataset = small_tokenized_concatenated_dataset.filter(lambda example: example['label'] is not None)\n",
    "small_tokenized_concatenated_dataset = filtered_dataset\n",
    "small_tokenized_concatenated_dataset"
   ]
  },
  {
   "cell_type": "markdown",
   "metadata": {},
   "source": [
    "import pandas as pd\n",
    "import os\n",
    "from datasets import concatenate_datasets\n",
    "# Combine the two datasets\n",
    "# Check and update label types for small_eval_dataset\n",
    "if str(small_eval_dataset.features['label']) == \"Value(dtype='float64', id=None)\":\n",
    "    def convert_label_to_int(x):\n",
    "        if x['label'] is not None:\n",
    "            return {\"label\": int(x['label'])}\n",
    "        return x\n",
    "    small_eval_dataset = small_eval_dataset.map(convert_label_to_int)\n",
    "\n",
    "# Check and update label types for small_addtest_dataset\n",
    "if str(small_addtest_dataset.features['label']) == \"Value(dtype='float64', id=None)\":\n",
    "    def convert_label_to_int(x):\n",
    "        if x['label'] is not None:\n",
    "            return {\"label\": int(x['label'])}\n",
    "        return x\n",
    "    small_addtest_dataset = small_addtest_dataset.map(convert_label_to_int)\n",
    "\n",
    "# Now try to concatenate\n",
    "combined_test_dataset = concatenate_datasets([small_eval_dataset, small_addtest_dataset])\n"
   ]
  },
  {
   "cell_type": "code",
   "execution_count": null,
   "metadata": {
    "id": "29Y5FY54XZuo"
   },
   "outputs": [],
   "source": [
    "from transformers import AutoModelForSequenceClassification\n",
    "model = AutoModelForSequenceClassification.from_pretrained(model_name, num_labels=7)"
   ]
  },
  {
   "cell_type": "markdown",
   "metadata": {
    "id": "4r92zyqkXkrl"
   },
   "source": [
    "training hyperparmeters\n"
   ]
  },
  {
   "cell_type": "code",
   "execution_count": null,
   "metadata": {
    "id": "GgsOKN7CXmbo"
   },
   "outputs": [],
   "source": [
    "out_dir = \"Models/\"\n",
    "\n",
    "from transformers import TrainingArguments\n",
    "training_args = TrainingArguments(output_dir = out_dir)"
   ]
  },
  {
   "cell_type": "markdown",
   "metadata": {
    "id": "MgGudfo5X1eI"
   },
   "source": [
    "Evaluate"
   ]
  },
  {
   "cell_type": "code",
   "execution_count": null,
   "metadata": {
    "id": "6A3KRqExXgM-"
   },
   "outputs": [],
   "source": [
    "import numpy as np\n",
    "import evaluate\n",
    "\n",
    "metric = evaluate.load(\"accuracy\")\n",
    "#Before passing your predictions to compute, you need to convert the predictions to logits\n",
    "def compute_metrics(eval_pred):\n",
    "    logits, labels = eval_pred\n",
    "    predictions = np.argmax(logits, axis=-1)\n",
    "    return metric.compute(predictions=predictions, references=labels)"
   ]
  },
  {
   "cell_type": "markdown",
   "metadata": {},
   "source": [
    "! export PYTORCH_CUDA_ALLOC_CONF=\"max_split_size_mb=20\""
   ]
  },
  {
   "cell_type": "code",
   "execution_count": null,
   "metadata": {},
   "outputs": [],
   "source": [
    "from transformers import TrainerCallback, TrainerControl\n",
    "\n",
    "class LoggingCallback(TrainerCallback):\n",
    "    def __init__(self, trainer, eval_dataset, csv_file_path, model_name):\n",
    "        self.trainer = trainer\n",
    "        self.eval_dataset = eval_dataset\n",
    "        self.csv_file_path = csv_file_path\n",
    "        self.model_name = model_name\n",
    "\n",
    "    def on_epoch_end(self, args, state, control: TrainerControl, **kwargs):\n",
    "#         model_name = args.model_name_or_path\n",
    "\n",
    "        eval_results = self.trainer.predict(self.eval_dataset)\n",
    "        logits = eval_results.predictions\n",
    "        labels = eval_results.label_ids\n",
    "        predicted_labels = np.argmax(logits, axis=-1)\n",
    "\n",
    "        # Compute metrics\n",
    "        accuracy = accuracy_score(labels, predicted_labels)\n",
    "        precision, recall, f1, _ = precision_recall_fscore_support(labels, predicted_labels, average='weighted')\n",
    "\n",
    "        # Data to append\n",
    "        data = {\n",
    "            \"model\": [self.model_name],\n",
    "            \"#TrainRows\": [len(trainer.train_dataset)],\n",
    "            \"#TestRows\": [len(self.eval_dataset)],\n",
    "            \"#epochs\": [state.epoch],\n",
    "            \"accuracy\": [accuracy],\n",
    "            \"precision\": [precision],\n",
    "            \"recall\": [recall],\n",
    "            \"f1\": [f1]\n",
    "        }\n",
    "\n",
    "        # Append the new data to the file\n",
    "        df = pd.DataFrame(data)\n",
    "        df.to_csv(self.csv_file_path, mode='a', header=not os.path.isfile(self.csv_file_path), index=False)\n"
   ]
  },
  {
   "cell_type": "code",
   "execution_count": null,
   "metadata": {
    "colab": {
     "base_uri": "https://localhost:8080/",
     "height": 1000
    },
    "id": "YF9UQU0_YGhQ",
    "outputId": "b1cf8bdb-8f5b-44c5-ac3a-1119b96ccfbe"
   },
   "outputs": [],
   "source": [
    "from transformers import TrainingArguments, Trainer\n",
    "# Define the training arguments\n",
    "training_args = TrainingArguments(\n",
    "    output_dir=out_dir,\n",
    "    save_strategy=\"epoch\",\n",
    "#     save_steps=1000,  # Save model every 100 steps\n",
    "    num_train_epochs=num_epochs,\n",
    "    per_device_train_batch_size=6,\n",
    "    per_device_eval_batch_size=6,\n",
    ")\n",
    "\n",
    "# # Create the Trainer instance\n",
    "# trainer = Trainer(\n",
    "#     model=model,\n",
    "#     args=training_args,\n",
    "#     train_dataset=small_train_dataset,\n",
    "#     eval_dataset=small_eval_dataset,\n",
    "#     compute_metrics=compute_metrics,\n",
    "#     callbacks=[LoggingCallback(combined_test_dataset, eval_metrics_file, model_name)]\n",
    "# )\n",
    "# Initialize the Trainer instance first\n",
    "trainer = Trainer(\n",
    "    model=model,\n",
    "    args=training_args,\n",
    "    train_dataset=small_train_dataset,\n",
    "    eval_dataset=small_eval_dataset,\n",
    "    compute_metrics=compute_metrics\n",
    ")\n",
    "\n",
    "# Then, add the callback with the trainer instance\n",
    "logging_callback = LoggingCallback(trainer, small_tokenized_concatenated_dataset, eval_metrics_file, model_name)\n",
    "trainer.add_callback(logging_callback)"
   ]
  },
  {
   "cell_type": "code",
   "execution_count": null,
   "metadata": {},
   "outputs": [],
   "source": [
    "#before the fine-tuning\n",
    "eval_results = trainer.predict(small_tokenized_concatenated_dataset)\n",
    "logits = eval_results.predictions\n",
    "labels = eval_results.label_ids\n",
    "predicted_labels = np.argmax(logits, axis=-1)\n",
    "from sklearn.metrics import confusion_matrix, accuracy_score, precision_recall_fscore_support, roc_auc_score\n",
    "\n",
    "# Compute confusion matrix\n",
    "cm = confusion_matrix(labels, predicted_labels)\n",
    "\n",
    "# Compute other metrics\n",
    "accuracy = accuracy_score(labels, predicted_labels)\n",
    "precision, recall, f1, _ = precision_recall_fscore_support(labels, predicted_labels, average='weighted')\n",
    "# Assuming binary classification for AUC calculation (you might need to adjust this for multi-class)\n",
    "# auc = roc_auc_score(labels, logits[:, 1])\n",
    "\n",
    "print(\"Accuracy:\", accuracy)\n",
    "print(\"Precision:\", precision)\n",
    "print(\"Recall:\", recall)\n",
    "print(\"F1 Score:\", f1)\n",
    "# print(\"AUC:\", auc)\n"
   ]
  },
  {
   "cell_type": "code",
   "execution_count": null,
   "metadata": {},
   "outputs": [],
   "source": [
    "import seaborn as sns\n",
    "import matplotlib.pyplot as plt\n",
    "\n",
    "plt.figure(figsize=(10, 8))\n",
    "sns.heatmap(cm, annot=True, fmt='g', cmap='Blues')\n",
    "plt.xlabel('Predicted labels')\n",
    "plt.ylabel('True labels')\n",
    "plt.title('Confusion Matrix (Before Training)')\n",
    "plt.show()\n"
   ]
  },
  {
   "cell_type": "code",
   "execution_count": null,
   "metadata": {},
   "outputs": [],
   "source": [
    "import pandas as pd\n",
    "import os\n",
    "# Sample values (replace with actual values as required)\n",
    "data = {\n",
    "    \"model\": [model_name],  # Replace with your actual model name\n",
    "    \"#TrainRows\": [\"before_train\"],  # Number of training data rows\n",
    "    \"#TestRows\": [len(small_tokenized_concatenated_dataset)],  # Sum of test datasets rows\n",
    "    \"#epochs\": [\"NA\"],  # Replace with your actual number of epochs if different\n",
    "    \"accuracy\": [accuracy],  # Accuracy from your previous computations\n",
    "    \"precision\": [precision],  # Precision from your previous computations\n",
    "    \"recall\": [recall],  # Recall from your previous computations\n",
    "    \"f1\": [f1]  # F1 Score from your previous computations\n",
    "}\n",
    "\n",
    "# Headers\n",
    "headers = [\"model\", \"#TrainRows\", \"#TestRows\", \"#epochs\", \"accuracy\", \"precision\", \"recall\", \"f1\"]\n",
    "\n",
    "# Check if file exists, if not create it with headers\n",
    "if not os.path.isfile(eval_metrics_file):\n",
    "    with open(eval_metrics_file, 'w') as f:\n",
    "        f.write(','.join(headers) + '\\n')\n",
    "\n",
    "# Append the new data to the file\n",
    "df = pd.DataFrame(data)\n",
    "df.to_csv(eval_metrics_file, mode='a', header=False, index=False)\n"
   ]
  },
  {
   "cell_type": "code",
   "execution_count": null,
   "metadata": {
    "id": "9b_ZybvnklQS"
   },
   "outputs": [],
   "source": [
    "import datetime\n",
    "# Perform the training\n",
    "before_time = datetime.datetime.now()\n",
    "before_time_str = before_time.strftime('%Y-%m-%d %H:%M:%S.%f')\n",
    "print(\"before time_str\", before_time_str)\n",
    "trainer.train()\n",
    "after_time = datetime.datetime.now()\n",
    "after_time_str = after_time.strftime('%Y-%m-%d %H:%M:%S.%f')\n",
    "print(\"after time_str\", after_time_str)\n",
    "    \n",
    "model.save_pretrained(out_dir)"
   ]
  },
  {
   "cell_type": "code",
   "execution_count": null,
   "metadata": {
    "colab": {
     "base_uri": "https://localhost:8080/",
     "height": 37
    },
    "id": "JEBQzKcjDzeD",
    "outputId": "5966b005-0634-4b79-fb8b-33dbbb6f1d62"
   },
   "outputs": [],
   "source": [
    "# Evaluate on the validation dataset\n",
    "eval_results = trainer.evaluate()\n",
    "\n",
    "# Access the computed metrics\n",
    "validation_accuracy = eval_results[\"eval_accuracy\"]\n",
    "validation_accuracy"
   ]
  },
  {
   "cell_type": "code",
   "execution_count": null,
   "metadata": {},
   "outputs": [],
   "source": [
    "eval_results = trainer.predict(small_tokenized_concatenated_dataset)\n",
    "logits = eval_results.predictions\n",
    "labels = eval_results.label_ids\n",
    "predicted_labels = np.argmax(logits, axis=-1)\n",
    "from sklearn.metrics import confusion_matrix, accuracy_score, precision_recall_fscore_support, roc_auc_score\n",
    "import matplotlib.pyplot as plt\n",
    "import seaborn as sns\n",
    "\n",
    "# Compute confusion matrix\n",
    "cm = confusion_matrix(labels, predicted_labels)\n",
    "\n",
    "# Compute other metrics\n",
    "accuracy = accuracy_score(labels, predicted_labels)\n",
    "precision, recall, f1, _ = precision_recall_fscore_support(labels, predicted_labels, average='weighted')\n",
    "# Assuming binary classification for AUC calculation (you might need to adjust this for multi-class)\n",
    "# auc = roc_auc_score(labels, logits[:, 1])\n",
    "\n",
    "print(\"Accuracy:\", accuracy)\n",
    "print(\"Precision:\", precision)\n",
    "print(\"Recall:\", recall)\n",
    "print(\"F1 Score:\", f1)\n",
    "\n",
    "# Visualize the confusion matrix using Seaborn's heatmap\n",
    "plt.figure(figsize=(10, 8))\n",
    "sns.heatmap(cm, annot=True, fmt='g', cmap='Blues')\n",
    "plt.xlabel('Predicted labels')\n",
    "plt.ylabel('True labels')\n",
    "plt.title('Confusion Matrix')\n",
    "plt.show()"
   ]
  },
  {
   "cell_type": "code",
   "execution_count": null,
   "metadata": {},
   "outputs": [],
   "source": [
    "import pandas as pd\n",
    "import os\n",
    "\n",
    "# Sample values (replace with actual values as required)\n",
    "data = {\n",
    "    \"model\": [model_name],  # Replace with your actual model name\n",
    "    \"#TrainRows\": [len(small_train_dataset)],  # Number of training data rows\n",
    "    \"#TestRows\": [len(small_tokenized_concatenated_dataset)],  # Sum of test datasets rows\n",
    "    \"#epochs\": [num_epochs],  # Replace with your actual number of epochs if different\n",
    "    \"accuracy\": [accuracy],  # Accuracy from your previous computations\n",
    "    \"precision\": [precision],  # Precision from your previous computations\n",
    "    \"recall\": [recall],  # Recall from your previous computations\n",
    "    \"f1\": [f1]  # F1 Score from your previous computations\n",
    "}\n",
    "\n",
    "# Headers\n",
    "headers = [\"model\", \"#TrainRows\", \"#TestRows\", \"#epochs\", \"accuracy\", \"precision\", \"recall\", \"f1\"]\n",
    "\n",
    "# Check if file exists, if not create it with headers\n",
    "if not os.path.isfile(eval_metrics_file):\n",
    "    with open(eval_metrics_file, 'w') as f:\n",
    "        f.write(','.join(headers) + '\\n')\n",
    "\n",
    "# Append the new data to the file\n",
    "df = pd.DataFrame(data)\n",
    "df.to_csv(eval_metrics_file, mode='a', header=False, index=False)\n"
   ]
  },
  {
   "cell_type": "markdown",
   "metadata": {
    "id": "x_LGcBmBN9K7"
   },
   "source": []
  }
 ],
 "metadata": {
  "accelerator": "GPU",
  "colab": {
   "gpuType": "T4",
   "provenance": []
  },
  "gpuClass": "standard",
  "kernelspec": {
   "display_name": "Python 3 (ipykernel)",
   "language": "python",
   "name": "python3"
  },
  "language_info": {
   "codemirror_mode": {
    "name": "ipython",
    "version": 3
   },
   "file_extension": ".py",
   "mimetype": "text/x-python",
   "name": "python",
   "nbconvert_exporter": "python",
   "pygments_lexer": "ipython3",
   "version": "3.11.4"
  },
  "widgets": {
   "application/vnd.jupyter.widget-state+json": {
    "0a7e071d5b0c4c8cb793d758073540bc": {
     "model_module": "@jupyter-widgets/base",
     "model_module_version": "1.2.0",
     "model_name": "LayoutModel",
     "state": {
      "_model_module": "@jupyter-widgets/base",
      "_model_module_version": "1.2.0",
      "_model_name": "LayoutModel",
      "_view_count": null,
      "_view_module": "@jupyter-widgets/base",
      "_view_module_version": "1.2.0",
      "_view_name": "LayoutView",
      "align_content": null,
      "align_items": null,
      "align_self": null,
      "border": null,
      "bottom": null,
      "display": null,
      "flex": null,
      "flex_flow": null,
      "grid_area": null,
      "grid_auto_columns": null,
      "grid_auto_flow": null,
      "grid_auto_rows": null,
      "grid_column": null,
      "grid_gap": null,
      "grid_row": null,
      "grid_template_areas": null,
      "grid_template_columns": null,
      "grid_template_rows": null,
      "height": null,
      "justify_content": null,
      "justify_items": null,
      "left": null,
      "margin": null,
      "max_height": null,
      "max_width": null,
      "min_height": null,
      "min_width": null,
      "object_fit": null,
      "object_position": null,
      "order": null,
      "overflow": null,
      "overflow_x": null,
      "overflow_y": null,
      "padding": null,
      "right": null,
      "top": null,
      "visibility": null,
      "width": null
     }
    },
    "2395e2d525934fb090fc58b5e8e2bce8": {
     "model_module": "@jupyter-widgets/controls",
     "model_module_version": "1.5.0",
     "model_name": "FloatProgressModel",
     "state": {
      "_dom_classes": [],
      "_model_module": "@jupyter-widgets/controls",
      "_model_module_version": "1.5.0",
      "_model_name": "FloatProgressModel",
      "_view_count": null,
      "_view_module": "@jupyter-widgets/controls",
      "_view_module_version": "1.5.0",
      "_view_name": "ProgressView",
      "bar_style": "",
      "description": "",
      "description_tooltip": null,
      "layout": "IPY_MODEL_e95e9d4db2254149a8f080812b41aaaf",
      "max": 33633,
      "min": 0,
      "orientation": "horizontal",
      "style": "IPY_MODEL_a53f2fffe39d4f7ba86995f8574dc369",
      "value": 33633
     }
    },
    "33341cdaa7d74a5a97fe67a3e16eb4ac": {
     "model_module": "@jupyter-widgets/base",
     "model_module_version": "1.2.0",
     "model_name": "LayoutModel",
     "state": {
      "_model_module": "@jupyter-widgets/base",
      "_model_module_version": "1.2.0",
      "_model_name": "LayoutModel",
      "_view_count": null,
      "_view_module": "@jupyter-widgets/base",
      "_view_module_version": "1.2.0",
      "_view_name": "LayoutView",
      "align_content": null,
      "align_items": null,
      "align_self": null,
      "border": null,
      "bottom": null,
      "display": null,
      "flex": null,
      "flex_flow": null,
      "grid_area": null,
      "grid_auto_columns": null,
      "grid_auto_flow": null,
      "grid_auto_rows": null,
      "grid_column": null,
      "grid_gap": null,
      "grid_row": null,
      "grid_template_areas": null,
      "grid_template_columns": null,
      "grid_template_rows": null,
      "height": null,
      "justify_content": null,
      "justify_items": null,
      "left": null,
      "margin": null,
      "max_height": null,
      "max_width": null,
      "min_height": null,
      "min_width": null,
      "object_fit": null,
      "object_position": null,
      "order": null,
      "overflow": null,
      "overflow_x": null,
      "overflow_y": null,
      "padding": null,
      "right": null,
      "top": null,
      "visibility": null,
      "width": null
     }
    },
    "473dec24a2da412e981bfc2a3b25093d": {
     "model_module": "@jupyter-widgets/controls",
     "model_module_version": "1.5.0",
     "model_name": "FloatProgressModel",
     "state": {
      "_dom_classes": [],
      "_model_module": "@jupyter-widgets/controls",
      "_model_module_version": "1.5.0",
      "_model_name": "FloatProgressModel",
      "_view_count": null,
      "_view_module": "@jupyter-widgets/controls",
      "_view_module_version": "1.5.0",
      "_view_name": "ProgressView",
      "bar_style": "",
      "description": "",
      "description_tooltip": null,
      "layout": "IPY_MODEL_0a7e071d5b0c4c8cb793d758073540bc",
      "max": 3737,
      "min": 0,
      "orientation": "horizontal",
      "style": "IPY_MODEL_cec6d45574e64803886748de947c3c1f",
      "value": 3737
     }
    },
    "54c48acde10c40d6a7304457aeee0bb1": {
     "model_module": "@jupyter-widgets/controls",
     "model_module_version": "1.5.0",
     "model_name": "HTMLModel",
     "state": {
      "_dom_classes": [],
      "_model_module": "@jupyter-widgets/controls",
      "_model_module_version": "1.5.0",
      "_model_name": "HTMLModel",
      "_view_count": null,
      "_view_module": "@jupyter-widgets/controls",
      "_view_module_version": "1.5.0",
      "_view_name": "HTMLView",
      "description": "",
      "description_tooltip": null,
      "layout": "IPY_MODEL_68c7353b59af44b7a10f60515772b00e",
      "placeholder": "​",
      "style": "IPY_MODEL_a64f43c0b41046c5a8087b5449ca86f1",
      "value": "Map: 100%"
     }
    },
    "559c2507022d42e5a4d8a6be2eef0c7f": {
     "model_module": "@jupyter-widgets/controls",
     "model_module_version": "1.5.0",
     "model_name": "HBoxModel",
     "state": {
      "_dom_classes": [],
      "_model_module": "@jupyter-widgets/controls",
      "_model_module_version": "1.5.0",
      "_model_name": "HBoxModel",
      "_view_count": null,
      "_view_module": "@jupyter-widgets/controls",
      "_view_module_version": "1.5.0",
      "_view_name": "HBoxView",
      "box_style": "",
      "children": [
       "IPY_MODEL_54c48acde10c40d6a7304457aeee0bb1",
       "IPY_MODEL_473dec24a2da412e981bfc2a3b25093d",
       "IPY_MODEL_a0d06c71ecf04f789987f19e916ffcb6"
      ],
      "layout": "IPY_MODEL_f330e4cca1854941a1cae66e2e5f1f52"
     }
    },
    "68c7353b59af44b7a10f60515772b00e": {
     "model_module": "@jupyter-widgets/base",
     "model_module_version": "1.2.0",
     "model_name": "LayoutModel",
     "state": {
      "_model_module": "@jupyter-widgets/base",
      "_model_module_version": "1.2.0",
      "_model_name": "LayoutModel",
      "_view_count": null,
      "_view_module": "@jupyter-widgets/base",
      "_view_module_version": "1.2.0",
      "_view_name": "LayoutView",
      "align_content": null,
      "align_items": null,
      "align_self": null,
      "border": null,
      "bottom": null,
      "display": null,
      "flex": null,
      "flex_flow": null,
      "grid_area": null,
      "grid_auto_columns": null,
      "grid_auto_flow": null,
      "grid_auto_rows": null,
      "grid_column": null,
      "grid_gap": null,
      "grid_row": null,
      "grid_template_areas": null,
      "grid_template_columns": null,
      "grid_template_rows": null,
      "height": null,
      "justify_content": null,
      "justify_items": null,
      "left": null,
      "margin": null,
      "max_height": null,
      "max_width": null,
      "min_height": null,
      "min_width": null,
      "object_fit": null,
      "object_position": null,
      "order": null,
      "overflow": null,
      "overflow_x": null,
      "overflow_y": null,
      "padding": null,
      "right": null,
      "top": null,
      "visibility": null,
      "width": null
     }
    },
    "74fece7d5eb54275a179f9cab3fcbe86": {
     "model_module": "@jupyter-widgets/controls",
     "model_module_version": "1.5.0",
     "model_name": "HTMLModel",
     "state": {
      "_dom_classes": [],
      "_model_module": "@jupyter-widgets/controls",
      "_model_module_version": "1.5.0",
      "_model_name": "HTMLModel",
      "_view_count": null,
      "_view_module": "@jupyter-widgets/controls",
      "_view_module_version": "1.5.0",
      "_view_name": "HTMLView",
      "description": "",
      "description_tooltip": null,
      "layout": "IPY_MODEL_7a24bdd879cb4eac8f154f8499d7226c",
      "placeholder": "​",
      "style": "IPY_MODEL_d4eafcee2d1e49ffa1e6fc12fdb55a81",
      "value": "Map: 100%"
     }
    },
    "7a24bdd879cb4eac8f154f8499d7226c": {
     "model_module": "@jupyter-widgets/base",
     "model_module_version": "1.2.0",
     "model_name": "LayoutModel",
     "state": {
      "_model_module": "@jupyter-widgets/base",
      "_model_module_version": "1.2.0",
      "_model_name": "LayoutModel",
      "_view_count": null,
      "_view_module": "@jupyter-widgets/base",
      "_view_module_version": "1.2.0",
      "_view_name": "LayoutView",
      "align_content": null,
      "align_items": null,
      "align_self": null,
      "border": null,
      "bottom": null,
      "display": null,
      "flex": null,
      "flex_flow": null,
      "grid_area": null,
      "grid_auto_columns": null,
      "grid_auto_flow": null,
      "grid_auto_rows": null,
      "grid_column": null,
      "grid_gap": null,
      "grid_row": null,
      "grid_template_areas": null,
      "grid_template_columns": null,
      "grid_template_rows": null,
      "height": null,
      "justify_content": null,
      "justify_items": null,
      "left": null,
      "margin": null,
      "max_height": null,
      "max_width": null,
      "min_height": null,
      "min_width": null,
      "object_fit": null,
      "object_position": null,
      "order": null,
      "overflow": null,
      "overflow_x": null,
      "overflow_y": null,
      "padding": null,
      "right": null,
      "top": null,
      "visibility": null,
      "width": null
     }
    },
    "95d991012353487e81d0d14c5d75285c": {
     "model_module": "@jupyter-widgets/controls",
     "model_module_version": "1.5.0",
     "model_name": "HBoxModel",
     "state": {
      "_dom_classes": [],
      "_model_module": "@jupyter-widgets/controls",
      "_model_module_version": "1.5.0",
      "_model_name": "HBoxModel",
      "_view_count": null,
      "_view_module": "@jupyter-widgets/controls",
      "_view_module_version": "1.5.0",
      "_view_name": "HBoxView",
      "box_style": "",
      "children": [
       "IPY_MODEL_74fece7d5eb54275a179f9cab3fcbe86",
       "IPY_MODEL_2395e2d525934fb090fc58b5e8e2bce8",
       "IPY_MODEL_e85d157453e148aa9bd1f6a1bda112a3"
      ],
      "layout": "IPY_MODEL_dc07e109aceb4f4caaf40afbee4b7809"
     }
    },
    "9dc1e18a49574eb08c8a1fa445eb449f": {
     "model_module": "@jupyter-widgets/controls",
     "model_module_version": "1.5.0",
     "model_name": "DescriptionStyleModel",
     "state": {
      "_model_module": "@jupyter-widgets/controls",
      "_model_module_version": "1.5.0",
      "_model_name": "DescriptionStyleModel",
      "_view_count": null,
      "_view_module": "@jupyter-widgets/base",
      "_view_module_version": "1.2.0",
      "_view_name": "StyleView",
      "description_width": ""
     }
    },
    "a0d06c71ecf04f789987f19e916ffcb6": {
     "model_module": "@jupyter-widgets/controls",
     "model_module_version": "1.5.0",
     "model_name": "HTMLModel",
     "state": {
      "_dom_classes": [],
      "_model_module": "@jupyter-widgets/controls",
      "_model_module_version": "1.5.0",
      "_model_name": "HTMLModel",
      "_view_count": null,
      "_view_module": "@jupyter-widgets/controls",
      "_view_module_version": "1.5.0",
      "_view_name": "HTMLView",
      "description": "",
      "description_tooltip": null,
      "layout": "IPY_MODEL_b55d2195f0d14ef8b7f03a1eecb53f17",
      "placeholder": "​",
      "style": "IPY_MODEL_d29631bca5dd4cb19538d8acddc173e0",
      "value": " 3737/3737 [00:05&lt;00:00, 706.97 examples/s]"
     }
    },
    "a53f2fffe39d4f7ba86995f8574dc369": {
     "model_module": "@jupyter-widgets/controls",
     "model_module_version": "1.5.0",
     "model_name": "ProgressStyleModel",
     "state": {
      "_model_module": "@jupyter-widgets/controls",
      "_model_module_version": "1.5.0",
      "_model_name": "ProgressStyleModel",
      "_view_count": null,
      "_view_module": "@jupyter-widgets/base",
      "_view_module_version": "1.2.0",
      "_view_name": "StyleView",
      "bar_color": null,
      "description_width": ""
     }
    },
    "a64f43c0b41046c5a8087b5449ca86f1": {
     "model_module": "@jupyter-widgets/controls",
     "model_module_version": "1.5.0",
     "model_name": "DescriptionStyleModel",
     "state": {
      "_model_module": "@jupyter-widgets/controls",
      "_model_module_version": "1.5.0",
      "_model_name": "DescriptionStyleModel",
      "_view_count": null,
      "_view_module": "@jupyter-widgets/base",
      "_view_module_version": "1.2.0",
      "_view_name": "StyleView",
      "description_width": ""
     }
    },
    "b55d2195f0d14ef8b7f03a1eecb53f17": {
     "model_module": "@jupyter-widgets/base",
     "model_module_version": "1.2.0",
     "model_name": "LayoutModel",
     "state": {
      "_model_module": "@jupyter-widgets/base",
      "_model_module_version": "1.2.0",
      "_model_name": "LayoutModel",
      "_view_count": null,
      "_view_module": "@jupyter-widgets/base",
      "_view_module_version": "1.2.0",
      "_view_name": "LayoutView",
      "align_content": null,
      "align_items": null,
      "align_self": null,
      "border": null,
      "bottom": null,
      "display": null,
      "flex": null,
      "flex_flow": null,
      "grid_area": null,
      "grid_auto_columns": null,
      "grid_auto_flow": null,
      "grid_auto_rows": null,
      "grid_column": null,
      "grid_gap": null,
      "grid_row": null,
      "grid_template_areas": null,
      "grid_template_columns": null,
      "grid_template_rows": null,
      "height": null,
      "justify_content": null,
      "justify_items": null,
      "left": null,
      "margin": null,
      "max_height": null,
      "max_width": null,
      "min_height": null,
      "min_width": null,
      "object_fit": null,
      "object_position": null,
      "order": null,
      "overflow": null,
      "overflow_x": null,
      "overflow_y": null,
      "padding": null,
      "right": null,
      "top": null,
      "visibility": null,
      "width": null
     }
    },
    "cec6d45574e64803886748de947c3c1f": {
     "model_module": "@jupyter-widgets/controls",
     "model_module_version": "1.5.0",
     "model_name": "ProgressStyleModel",
     "state": {
      "_model_module": "@jupyter-widgets/controls",
      "_model_module_version": "1.5.0",
      "_model_name": "ProgressStyleModel",
      "_view_count": null,
      "_view_module": "@jupyter-widgets/base",
      "_view_module_version": "1.2.0",
      "_view_name": "StyleView",
      "bar_color": null,
      "description_width": ""
     }
    },
    "d29631bca5dd4cb19538d8acddc173e0": {
     "model_module": "@jupyter-widgets/controls",
     "model_module_version": "1.5.0",
     "model_name": "DescriptionStyleModel",
     "state": {
      "_model_module": "@jupyter-widgets/controls",
      "_model_module_version": "1.5.0",
      "_model_name": "DescriptionStyleModel",
      "_view_count": null,
      "_view_module": "@jupyter-widgets/base",
      "_view_module_version": "1.2.0",
      "_view_name": "StyleView",
      "description_width": ""
     }
    },
    "d4eafcee2d1e49ffa1e6fc12fdb55a81": {
     "model_module": "@jupyter-widgets/controls",
     "model_module_version": "1.5.0",
     "model_name": "DescriptionStyleModel",
     "state": {
      "_model_module": "@jupyter-widgets/controls",
      "_model_module_version": "1.5.0",
      "_model_name": "DescriptionStyleModel",
      "_view_count": null,
      "_view_module": "@jupyter-widgets/base",
      "_view_module_version": "1.2.0",
      "_view_name": "StyleView",
      "description_width": ""
     }
    },
    "dc07e109aceb4f4caaf40afbee4b7809": {
     "model_module": "@jupyter-widgets/base",
     "model_module_version": "1.2.0",
     "model_name": "LayoutModel",
     "state": {
      "_model_module": "@jupyter-widgets/base",
      "_model_module_version": "1.2.0",
      "_model_name": "LayoutModel",
      "_view_count": null,
      "_view_module": "@jupyter-widgets/base",
      "_view_module_version": "1.2.0",
      "_view_name": "LayoutView",
      "align_content": null,
      "align_items": null,
      "align_self": null,
      "border": null,
      "bottom": null,
      "display": null,
      "flex": null,
      "flex_flow": null,
      "grid_area": null,
      "grid_auto_columns": null,
      "grid_auto_flow": null,
      "grid_auto_rows": null,
      "grid_column": null,
      "grid_gap": null,
      "grid_row": null,
      "grid_template_areas": null,
      "grid_template_columns": null,
      "grid_template_rows": null,
      "height": null,
      "justify_content": null,
      "justify_items": null,
      "left": null,
      "margin": null,
      "max_height": null,
      "max_width": null,
      "min_height": null,
      "min_width": null,
      "object_fit": null,
      "object_position": null,
      "order": null,
      "overflow": null,
      "overflow_x": null,
      "overflow_y": null,
      "padding": null,
      "right": null,
      "top": null,
      "visibility": "hidden",
      "width": null
     }
    },
    "e85d157453e148aa9bd1f6a1bda112a3": {
     "model_module": "@jupyter-widgets/controls",
     "model_module_version": "1.5.0",
     "model_name": "HTMLModel",
     "state": {
      "_dom_classes": [],
      "_model_module": "@jupyter-widgets/controls",
      "_model_module_version": "1.5.0",
      "_model_name": "HTMLModel",
      "_view_count": null,
      "_view_module": "@jupyter-widgets/controls",
      "_view_module_version": "1.5.0",
      "_view_name": "HTMLView",
      "description": "",
      "description_tooltip": null,
      "layout": "IPY_MODEL_33341cdaa7d74a5a97fe67a3e16eb4ac",
      "placeholder": "​",
      "style": "IPY_MODEL_9dc1e18a49574eb08c8a1fa445eb449f",
      "value": " 33633/33633 [00:23&lt;00:00, 1418.97 examples/s]"
     }
    },
    "e95e9d4db2254149a8f080812b41aaaf": {
     "model_module": "@jupyter-widgets/base",
     "model_module_version": "1.2.0",
     "model_name": "LayoutModel",
     "state": {
      "_model_module": "@jupyter-widgets/base",
      "_model_module_version": "1.2.0",
      "_model_name": "LayoutModel",
      "_view_count": null,
      "_view_module": "@jupyter-widgets/base",
      "_view_module_version": "1.2.0",
      "_view_name": "LayoutView",
      "align_content": null,
      "align_items": null,
      "align_self": null,
      "border": null,
      "bottom": null,
      "display": null,
      "flex": null,
      "flex_flow": null,
      "grid_area": null,
      "grid_auto_columns": null,
      "grid_auto_flow": null,
      "grid_auto_rows": null,
      "grid_column": null,
      "grid_gap": null,
      "grid_row": null,
      "grid_template_areas": null,
      "grid_template_columns": null,
      "grid_template_rows": null,
      "height": null,
      "justify_content": null,
      "justify_items": null,
      "left": null,
      "margin": null,
      "max_height": null,
      "max_width": null,
      "min_height": null,
      "min_width": null,
      "object_fit": null,
      "object_position": null,
      "order": null,
      "overflow": null,
      "overflow_x": null,
      "overflow_y": null,
      "padding": null,
      "right": null,
      "top": null,
      "visibility": null,
      "width": null
     }
    },
    "f330e4cca1854941a1cae66e2e5f1f52": {
     "model_module": "@jupyter-widgets/base",
     "model_module_version": "1.2.0",
     "model_name": "LayoutModel",
     "state": {
      "_model_module": "@jupyter-widgets/base",
      "_model_module_version": "1.2.0",
      "_model_name": "LayoutModel",
      "_view_count": null,
      "_view_module": "@jupyter-widgets/base",
      "_view_module_version": "1.2.0",
      "_view_name": "LayoutView",
      "align_content": null,
      "align_items": null,
      "align_self": null,
      "border": null,
      "bottom": null,
      "display": null,
      "flex": null,
      "flex_flow": null,
      "grid_area": null,
      "grid_auto_columns": null,
      "grid_auto_flow": null,
      "grid_auto_rows": null,
      "grid_column": null,
      "grid_gap": null,
      "grid_row": null,
      "grid_template_areas": null,
      "grid_template_columns": null,
      "grid_template_rows": null,
      "height": null,
      "justify_content": null,
      "justify_items": null,
      "left": null,
      "margin": null,
      "max_height": null,
      "max_width": null,
      "min_height": null,
      "min_width": null,
      "object_fit": null,
      "object_position": null,
      "order": null,
      "overflow": null,
      "overflow_x": null,
      "overflow_y": null,
      "padding": null,
      "right": null,
      "top": null,
      "visibility": "hidden",
      "width": null
     }
    }
   }
  }
 },
 "nbformat": 4,
 "nbformat_minor": 1
}
